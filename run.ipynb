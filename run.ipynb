{
 "cells": [
  {
   "cell_type": "code",
   "execution_count": 3,
   "metadata": {},
   "outputs": [
    {
     "name": "stdout",
     "output_type": "stream",
     "text": [
      "The autoreload extension is already loaded. To reload it, use:\n",
      "  %reload_ext autoreload\n",
      "network : instance/25NODE, R : 15, num_nodes : 25, |K| : 600, expected |K| : 600)\n",
      "time : 19\tmaster : 600000000000.0\tbound : 0.0\tgap : 100.0%\n",
      "time : 22\tmaster : 14715.0\tbound : 2879.0\tgap : 80.43%\n",
      "time : 25\tmaster : 7325.833333333334\tbound : 4556.0\tgap : 37.81%\n",
      "time : 26\tmaster : 5936.0\tbound : 5575.0\tgap : 6.08%\n",
      "time : 27\tmaster : 5578.0\tbound : 5695.0\tgap : -2.1%\n"
     ]
    },
    {
     "ename": "FileNotFoundError",
     "evalue": "[Errno 2] No such file or directory: 'results/test/instance/25NODE_10_15_25.json'",
     "output_type": "error",
     "traceback": [
      "\u001b[0;31m---------------------------------------------------------------------------\u001b[0m",
      "\u001b[0;31mFileNotFoundError\u001b[0m                         Traceback (most recent call last)",
      "\u001b[1;32m/Users/hyunwoo/Desktop/FRLMwCT/run.ipynb 셀 1\u001b[0m line \u001b[0;36m6\n\u001b[1;32m     <a href='vscode-notebook-cell:/Users/hyunwoo/Desktop/FRLMwCT/run.ipynb#W1sZmlsZQ%3D%3D?line=49'>50</a>\u001b[0m params \u001b[39m=\u001b[39m {\u001b[39m'\u001b[39m\u001b[39mnetwork_name\u001b[39m\u001b[39m'\u001b[39m:network_name, \u001b[39m'\u001b[39m\u001b[39mdist_multiplier\u001b[39m\u001b[39m'\u001b[39m:dist_multiplier, \u001b[39m'\u001b[39m\u001b[39mB\u001b[39m\u001b[39m'\u001b[39m:B, \u001b[39m'\u001b[39m\u001b[39mR\u001b[39m\u001b[39m'\u001b[39m:R, \u001b[39m'\u001b[39m\u001b[39mQT\u001b[39m\u001b[39m'\u001b[39m:QT, \u001b[39m'\u001b[39m\u001b[39mnum_node\u001b[39m\u001b[39m'\u001b[39m:num_node,\n\u001b[1;32m     <a href='vscode-notebook-cell:/Users/hyunwoo/Desktop/FRLMwCT/run.ipynb#W1sZmlsZQ%3D%3D?line=50'>51</a>\u001b[0m             \u001b[39m'\u001b[39m\u001b[39mW\u001b[39m\u001b[39m'\u001b[39m:W, \u001b[39m'\u001b[39m\u001b[39mfst_q\u001b[39m\u001b[39m'\u001b[39m:fst_q, \u001b[39m'\u001b[39m\u001b[39malpha\u001b[39m\u001b[39m'\u001b[39m:alpha, \u001b[39m'\u001b[39m\u001b[39mtheta\u001b[39m\u001b[39m'\u001b[39m:theta, \u001b[39m'\u001b[39m\u001b[39mbeta\u001b[39m\u001b[39m'\u001b[39m:beta, \u001b[39m'\u001b[39m\u001b[39mdelta\u001b[39m\u001b[39m'\u001b[39m:delta, \u001b[39m'\u001b[39m\u001b[39mtau\u001b[39m\u001b[39m'\u001b[39m:tau, \u001b[39m'\u001b[39m\u001b[39mL\u001b[39m\u001b[39m'\u001b[39m:L, \u001b[39m'\u001b[39m\u001b[39mnum_threads\u001b[39m\u001b[39m'\u001b[39m:num_threads,\n\u001b[1;32m     <a href='vscode-notebook-cell:/Users/hyunwoo/Desktop/FRLMwCT/run.ipynb#W1sZmlsZQ%3D%3D?line=51'>52</a>\u001b[0m             \u001b[39m'\u001b[39m\u001b[39mtimelimit\u001b[39m\u001b[39m'\u001b[39m:timelimit, \u001b[39m'\u001b[39m\u001b[39mdecay_f\u001b[39m\u001b[39m'\u001b[39m:decay_f, \u001b[39m'\u001b[39m\u001b[39muse_CT\u001b[39m\u001b[39m'\u001b[39m:use_CT, \u001b[39m'\u001b[39m\u001b[39msave_dir\u001b[39m\u001b[39m'\u001b[39m:save_dir,\u001b[39m'\u001b[39m\u001b[39msave_fn\u001b[39m\u001b[39m'\u001b[39m:save_fn,\n\u001b[0;32m   (...)\u001b[0m\n\u001b[1;32m     <a href='vscode-notebook-cell:/Users/hyunwoo/Desktop/FRLMwCT/run.ipynb#W1sZmlsZQ%3D%3D?line=55'>56</a>\u001b[0m             \u001b[39m'\u001b[39m\u001b[39mmiddle_node_sep_len\u001b[39m\u001b[39m'\u001b[39m:middle_node_sep_len,\n\u001b[1;32m     <a href='vscode-notebook-cell:/Users/hyunwoo/Desktop/FRLMwCT/run.ipynb#W1sZmlsZQ%3D%3D?line=56'>57</a>\u001b[0m             \u001b[39m'\u001b[39m\u001b[39muse_length_limit\u001b[39m\u001b[39m'\u001b[39m:use_length_limit}\n\u001b[1;32m     <a href='vscode-notebook-cell:/Users/hyunwoo/Desktop/FRLMwCT/run.ipynb#W1sZmlsZQ%3D%3D?line=58'>59</a>\u001b[0m \u001b[39mif\u001b[39;00m \u001b[39mf\u001b[39m\u001b[39m'\u001b[39m\u001b[39m{\u001b[39;00msave_fn\u001b[39m}\u001b[39;00m\u001b[39m.json\u001b[39m\u001b[39m'\u001b[39m \u001b[39mnot\u001b[39;00m \u001b[39min\u001b[39;00m os\u001b[39m.\u001b[39mlistdir(os\u001b[39m.\u001b[39mpath\u001b[39m.\u001b[39mjoin(\u001b[39m'\u001b[39m\u001b[39mresults\u001b[39m\u001b[39m'\u001b[39m, save_dir)):\n\u001b[0;32m---> <a href='vscode-notebook-cell:/Users/hyunwoo/Desktop/FRLMwCT/run.ipynb#W1sZmlsZQ%3D%3D?line=59'>60</a>\u001b[0m     solver\u001b[39m.\u001b[39;49mrun(params)\n",
      "File \u001b[0;32m~/Desktop/FRLMwCT/solver.py:133\u001b[0m, in \u001b[0;36mrun\u001b[0;34m(params)\u001b[0m\n\u001b[1;32m    130\u001b[0m \u001b[39mif\u001b[39;00m \u001b[39mnot\u001b[39;00m os\u001b[39m.\u001b[39mpath\u001b[39m.\u001b[39mexists(save_dir):\n\u001b[1;32m    131\u001b[0m     os\u001b[39m.\u001b[39mmkdir(save_dir)\n\u001b[0;32m--> 133\u001b[0m \u001b[39mwith\u001b[39;00m \u001b[39mopen\u001b[39;49m(os\u001b[39m.\u001b[39;49mpath\u001b[39m.\u001b[39;49mjoin(save_dir,\u001b[39mf\u001b[39;49m\u001b[39m\"\u001b[39;49m\u001b[39m{\u001b[39;49;00mparams[\u001b[39m'\u001b[39;49m\u001b[39msave_fn\u001b[39;49m\u001b[39m'\u001b[39;49m]\u001b[39m}\u001b[39;49;00m\u001b[39m.json\u001b[39;49m\u001b[39m\"\u001b[39;49m), \u001b[39m'\u001b[39;49m\u001b[39mw\u001b[39;49m\u001b[39m'\u001b[39;49m) \u001b[39mas\u001b[39;00m outfile:\n\u001b[1;32m    134\u001b[0m     json\u001b[39m.\u001b[39mdump(result, outfile, indent\u001b[39m=\u001b[39m\u001b[39m4\u001b[39m, default\u001b[39m=\u001b[39mnp_encoder)\n\u001b[1;32m    136\u001b[0m \u001b[39mif\u001b[39;00m \u001b[39mnot\u001b[39;00m os\u001b[39m.\u001b[39mpath\u001b[39m.\u001b[39mexists(os\u001b[39m.\u001b[39mpath\u001b[39m.\u001b[39mjoin(save_dir, \u001b[39m'\u001b[39m\u001b[39mcut\u001b[39m\u001b[39m'\u001b[39m)):\n",
      "\u001b[0;31mFileNotFoundError\u001b[0m: [Errno 2] No such file or directory: 'results/test/instance/25NODE_10_15_25.json'"
     ]
    }
   ],
   "source": [
    "%load_ext autoreload\n",
    "%autoreload 2\n",
    "%matplotlib inline\n",
    "%config InlineBackend.figure_format='retina'\n",
    "\n",
    "import solver\n",
    "import os\n",
    "\n",
    "save_dir = 'test'\n",
    "\n",
    "if not os.path.exists(os.path.join('results', save_dir)):\n",
    "    os.mkdir(os.path.join('results', save_dir))\n",
    "                            \n",
    "# problem option\n",
    "network_name = '25NODE'\n",
    "B = 10            # budget\n",
    "R = 15            # EV range\n",
    "num_node = 25     # number of demand nodes\n",
    "L = 1.3           # maximum deviation rate\n",
    "W=[(1,1),(0.5,3)] # charger type (budget, speed)\n",
    "fst_q = 0.5       # fastest charger\n",
    "QT = 1            # queueing time\n",
    "\n",
    "# charging function\n",
    "use_CT = True\n",
    "alpha = 2\n",
    "theta = 0.6\n",
    "\n",
    "# dacay functon\n",
    "beta = 1\n",
    "delta = 1\n",
    "decay_f = 'n'\n",
    "\n",
    "# run option\n",
    "num_threads = 8\n",
    "timelimit=3600*3\n",
    "tau = 3\n",
    "allow_backward = True\n",
    "remove_near_OD = False\n",
    "num_preload_paths = 0\n",
    "max_num_labels = -1\n",
    "middle_node_sep_len = -1\n",
    "use_length_limit = True\n",
    "dist_multiplier = 100\n",
    "use_multicut = True\n",
    "use_BnC = False\n",
    "\n",
    "save_fn = f'{network_name}_{B}_{R}_{num_node}'\n",
    "\n",
    "params = {'network_name':network_name, 'dist_multiplier':dist_multiplier, 'B':B, 'R':R, 'QT':QT, 'num_node':num_node,\n",
    "            'W':W, 'fst_q':fst_q, 'alpha':alpha, 'theta':theta, 'beta':beta, 'delta':delta, 'tau':tau, 'L':L, 'num_threads':num_threads,\n",
    "            'timelimit':timelimit, 'decay_f':decay_f, 'use_CT':use_CT, 'save_dir':save_dir,'save_fn':save_fn,\n",
    "            'use_BnC':use_BnC, 'use_multicut':use_multicut, \n",
    "            'remove_near_OD':remove_near_OD, 'allow_backward': allow_backward,\n",
    "            'num_preload_paths': num_preload_paths, 'max_num_labels': max_num_labels,\n",
    "            'middle_node_sep_len':middle_node_sep_len,\n",
    "            'use_length_limit':use_length_limit}\n",
    "\n",
    "if f'{save_fn}.json' not in os.listdir(os.path.join('results', save_dir)):\n",
    "    solver.run(params)"
   ]
  }
 ],
 "metadata": {
  "interpreter": {
   "hash": "5af101a6965f5c1459c2d2c17e8ff06adc73c7b9710c5f8dbfdd60365c412edf"
  },
  "kernelspec": {
   "display_name": "Python 3.7.10 64-bit ('optlab': conda)",
   "language": "python",
   "name": "python3"
  },
  "language_info": {
   "codemirror_mode": {
    "name": "ipython",
    "version": 3
   },
   "file_extension": ".py",
   "mimetype": "text/x-python",
   "name": "python",
   "nbconvert_exporter": "python",
   "pygments_lexer": "ipython3",
   "version": "3.10.12"
  },
  "orig_nbformat": 4
 },
 "nbformat": 4,
 "nbformat_minor": 2
}
