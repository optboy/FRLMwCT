{
 "cells": [
  {
   "cell_type": "code",
   "execution_count": 2,
   "metadata": {},
   "outputs": [
    {
     "name": "stdout",
     "output_type": "stream",
     "text": [
      "The autoreload extension is already loaded. To reload it, use:\n",
      "  %reload_ext autoreload\n"
     ]
    }
   ],
   "source": [
    "%load_ext autoreload\n",
    "%autoreload 2\n",
    "%matplotlib inline\n",
    "%config InlineBackend.figure_format='retina'\n",
    "\n",
    "from FRLM import network\n",
    "\n",
    "from matplotlib import pyplot as plt\n",
    "import matplotlib as mpl\n",
    "from network2tikz import plot\n",
    "import pandas as pd\n",
    "import numpy as np\n",
    "import json\n",
    "import compress_json\n",
    "\n",
    "network_name = '25NODE'\n",
    "solution_fn = 'results/test/25NODE_10_15_25.json.gz'"
   ]
  },
  {
   "cell_type": "code",
   "execution_count": 5,
   "metadata": {},
   "outputs": [],
   "source": [
    "json_data = compress_json.load(solution_fn)\n",
    "\n",
    "params = json_data['params']\n",
    "solution = json_data['solution']\n",
    "\n",
    "net = network.Net(dataDir=f\"instance/{params['network_name']}\", dist_multiplier=params['dist_multiplier'])\n",
    "\n",
    "node_weight_l = [[i,net.G.nodes[i]['weight']] for i in net.G.nodes if net.G.nodes[i]['weight'] > 0]\n",
    "weighted_nodes = [i for i,w in sorted(node_weight_l,key=lambda l:l[1], reverse=True)][:params['num_node']]\n",
    "\n",
    "arcs = {}\n",
    "for k,(p,l,t,f) in json_data['covered_full_paths_k'].items():\n",
    "    prev_i = p[0]\n",
    "    for i in p[1:]:\n",
    "        arc = tuple(sorted((prev_i, i)))\n",
    "        if arc not in arcs:\n",
    "            arcs[arc] = f\n",
    "        else:\n",
    "            arcs[arc] += f\n",
    "        prev_i = i\n",
    "\n",
    "layout = {i:net.G.nodes[i]['pos'] for i in net.G.nodes}\n",
    "\n",
    "visual_style = {}\n",
    "\n",
    "visual_style['node_label_off'] = False\n",
    "visual_style['node_opacity'] = [0.5 for i in net.G.nodes]\n",
    "visual_style['node_label'] = [net.G.nodes[i]['weight'] if i in weighted_nodes else '' for i in net.G.nodes]\n",
    "# visual_style['node_label_color'] = ['white' for i in net.G.nodes]\n",
    "visual_style['node_size'] = [0.4 if i in weighted_nodes else 0.2 for i in net.G.nodes]\n",
    "visual_style['node_color'] = []\n",
    "visual_style['node_shape'] = []\n",
    "for i in net.G.nodes:\n",
    "    if i in solution[0]:\n",
    "        if solution[1][solution[0].index(i)] == 1:\n",
    "            shape = 'diamond'\n",
    "            visual_style['node_size'][i] = 0.5\n",
    "        else:\n",
    "            shape = 'circle'\n",
    "        color = 'red'\n",
    "    else:\n",
    "        color = 'white!50!gray'\n",
    "        shape = 'circle'\n",
    "    visual_style['node_color'].append(color)\n",
    "    visual_style['node_shape'].append(shape)\n",
    "\n",
    "visual_style['edge_width'] = []\n",
    "visual_style['edge_color'] = []\n",
    "for (i1,i2) in net.G.edges:\n",
    "    if i1 > i2:\n",
    "        continue\n",
    "    if (i1,i2) in arcs:\n",
    "        visual_style['edge_width'].append(max(arcs[(i1,i2)]/250, 1))\n",
    "        visual_style['edge_color'].append('red')\n",
    "    else:\n",
    "        visual_style['edge_width'].append(1)\n",
    "        visual_style['edge_color'].append('black')\n",
    "\n",
    "visual_style['edge_opacity'] = 0.8\n",
    "visual_style['edge_label'] = [net.G.edges[i]['weight'] for i in net.G.edges]\n",
    "visual_style['edge_label_color'] = ['black' for i in net.G.edges]\n",
    "visual_style['edge_label_position'] = ['below' for i in net.G.edges]\n",
    "\n",
    "visual_style['canvas'] = (18,18)\n",
    "visual_style['margin'] = 1\n",
    "\n",
    "visual_style['layout'] = layout\n",
    "\n",
    "plot(net.G, 'solution.pdf', **visual_style)\n",
    "# plot(net.G, 'figure/TEXAS_solution.csv', **visual_style)"
   ]
  }
 ],
 "metadata": {
  "kernelspec": {
   "display_name": "FRLM",
   "language": "python",
   "name": "python3"
  },
  "language_info": {
   "codemirror_mode": {
    "name": "ipython",
    "version": 3
   },
   "file_extension": ".py",
   "mimetype": "text/x-python",
   "name": "python",
   "nbconvert_exporter": "python",
   "pygments_lexer": "ipython3",
   "version": "3.10.12"
  }
 },
 "nbformat": 4,
 "nbformat_minor": 2
}
